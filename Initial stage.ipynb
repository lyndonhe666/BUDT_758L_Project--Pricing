{
 "cells": [
  {
   "cell_type": "code",
   "execution_count": 27,
   "metadata": {},
   "outputs": [],
   "source": [
    "import pandas as pd\n",
    "import seaborn as sns\n",
    "import numpy as np"
   ]
  },
  {
   "cell_type": "code",
   "execution_count": 90,
   "metadata": {},
   "outputs": [],
   "source": [
    "df = pd.read_excel('Copa-Data-File.xls')"
   ]
  },
  {
   "cell_type": "code",
   "execution_count": 91,
   "metadata": {},
   "outputs": [
    {
     "data": {
      "text/html": [
       "<div>\n",
       "<style scoped>\n",
       "    .dataframe tbody tr th:only-of-type {\n",
       "        vertical-align: middle;\n",
       "    }\n",
       "\n",
       "    .dataframe tbody tr th {\n",
       "        vertical-align: top;\n",
       "    }\n",
       "\n",
       "    .dataframe thead th {\n",
       "        text-align: right;\n",
       "    }\n",
       "</style>\n",
       "<table border=\"1\" class=\"dataframe\">\n",
       "  <thead>\n",
       "    <tr style=\"text-align: right;\">\n",
       "      <th></th>\n",
       "      <th>Customer ID</th>\n",
       "      <th>Location</th>\n",
       "      <th>Booking date (# of days before the event)</th>\n",
       "      <th>Type</th>\n",
       "      <th>Quote</th>\n",
       "      <th>Win</th>\n",
       "    </tr>\n",
       "  </thead>\n",
       "  <tbody>\n",
       "    <tr>\n",
       "      <th>0</th>\n",
       "      <td>2007-10</td>\n",
       "      <td>3</td>\n",
       "      <td>174</td>\n",
       "      <td>Wedding</td>\n",
       "      <td>103</td>\n",
       "      <td>0</td>\n",
       "    </tr>\n",
       "    <tr>\n",
       "      <th>1</th>\n",
       "      <td>2007-100</td>\n",
       "      <td>4</td>\n",
       "      <td>174</td>\n",
       "      <td>Business</td>\n",
       "      <td>102</td>\n",
       "      <td>1</td>\n",
       "    </tr>\n",
       "    <tr>\n",
       "      <th>2</th>\n",
       "      <td>2007-1000</td>\n",
       "      <td>7</td>\n",
       "      <td>172</td>\n",
       "      <td>Wedding</td>\n",
       "      <td>141</td>\n",
       "      <td>0</td>\n",
       "    </tr>\n",
       "    <tr>\n",
       "      <th>3</th>\n",
       "      <td>2007-1001</td>\n",
       "      <td>9</td>\n",
       "      <td>36</td>\n",
       "      <td>Private</td>\n",
       "      <td>193</td>\n",
       "      <td>0</td>\n",
       "    </tr>\n",
       "    <tr>\n",
       "      <th>4</th>\n",
       "      <td>2007-1002</td>\n",
       "      <td>5</td>\n",
       "      <td>185</td>\n",
       "      <td>Wedding</td>\n",
       "      <td>141</td>\n",
       "      <td>1</td>\n",
       "    </tr>\n",
       "  </tbody>\n",
       "</table>\n",
       "</div>"
      ],
      "text/plain": [
       "  Customer ID   Location   Booking date (# of days before the event)  \\\n",
       "0     2007-10          3                                         174   \n",
       "1    2007-100          4                                         174   \n",
       "2   2007-1000          7                                         172   \n",
       "3   2007-1001          9                                          36   \n",
       "4   2007-1002          5                                         185   \n",
       "\n",
       "        Type   Quote   Win  \n",
       "0    Wedding     103     0  \n",
       "1   Business     102     1  \n",
       "2    Wedding     141     0  \n",
       "3    Private     193     0  \n",
       "4    Wedding     141     1  "
      ]
     },
     "execution_count": 91,
     "metadata": {},
     "output_type": "execute_result"
    }
   ],
   "source": [
    "df.head()"
   ]
  },
  {
   "cell_type": "code",
   "execution_count": 92,
   "metadata": {},
   "outputs": [],
   "source": [
    "df.columns = ['customer_id', 'location','date', 'type', 'quote', 'win']"
   ]
  },
  {
   "cell_type": "code",
   "execution_count": 93,
   "metadata": {},
   "outputs": [
    {
     "name": "stdout",
     "output_type": "stream",
     "text": [
      "<class 'pandas.core.frame.DataFrame'>\n",
      "RangeIndex: 7155 entries, 0 to 7154\n",
      "Data columns (total 6 columns):\n",
      "customer_id    7155 non-null object\n",
      "location       7155 non-null int64\n",
      "date           7155 non-null int64\n",
      "type           7155 non-null object\n",
      "quote          7155 non-null int64\n",
      "win            7155 non-null int64\n",
      "dtypes: int64(4), object(2)\n",
      "memory usage: 335.5+ KB\n"
     ]
    }
   ],
   "source": [
    "df.info()"
   ]
  },
  {
   "cell_type": "code",
   "execution_count": 94,
   "metadata": {},
   "outputs": [],
   "source": [
    "df['location'] = df['location'].astype('category')"
   ]
  },
  {
   "cell_type": "code",
   "execution_count": 95,
   "metadata": {},
   "outputs": [],
   "source": [
    "df['type'] = df['type'].apply(str.strip)"
   ]
  },
  {
   "cell_type": "code",
   "execution_count": 96,
   "metadata": {},
   "outputs": [
    {
     "data": {
      "text/plain": [
       "Wedding     2399\n",
       "Private     2381\n",
       "Business    2375\n",
       "Name: type, dtype: int64"
      ]
     },
     "execution_count": 96,
     "metadata": {},
     "output_type": "execute_result"
    }
   ],
   "source": [
    "df['type'].value_counts()"
   ]
  },
  {
   "cell_type": "code",
   "execution_count": 97,
   "metadata": {},
   "outputs": [
    {
     "data": {
      "text/plain": [
       "count    7155.000000\n",
       "mean      150.444305\n",
       "std        29.048393\n",
       "min       100.000000\n",
       "25%       125.000000\n",
       "50%       151.000000\n",
       "75%       176.000000\n",
       "max       200.000000\n",
       "Name: quote, dtype: float64"
      ]
     },
     "execution_count": 97,
     "metadata": {},
     "output_type": "execute_result"
    }
   ],
   "source": [
    "df['quote'].describe()"
   ]
  },
  {
   "cell_type": "code",
   "execution_count": 98,
   "metadata": {
    "scrolled": false
   },
   "outputs": [
    {
     "data": {
      "text/html": [
       "<div>\n",
       "<style scoped>\n",
       "    .dataframe tbody tr th:only-of-type {\n",
       "        vertical-align: middle;\n",
       "    }\n",
       "\n",
       "    .dataframe tbody tr th {\n",
       "        vertical-align: top;\n",
       "    }\n",
       "\n",
       "    .dataframe thead th {\n",
       "        text-align: right;\n",
       "    }\n",
       "</style>\n",
       "<table border=\"1\" class=\"dataframe\">\n",
       "  <thead>\n",
       "    <tr style=\"text-align: right;\">\n",
       "      <th></th>\n",
       "      <th>customer_id</th>\n",
       "      <th>location</th>\n",
       "      <th>date</th>\n",
       "      <th>type</th>\n",
       "      <th>quote</th>\n",
       "      <th>win</th>\n",
       "    </tr>\n",
       "  </thead>\n",
       "  <tbody>\n",
       "    <tr>\n",
       "      <th>0</th>\n",
       "      <td>2007-10</td>\n",
       "      <td>3</td>\n",
       "      <td>174</td>\n",
       "      <td>Wedding</td>\n",
       "      <td>103</td>\n",
       "      <td>0</td>\n",
       "    </tr>\n",
       "    <tr>\n",
       "      <th>1</th>\n",
       "      <td>2007-100</td>\n",
       "      <td>4</td>\n",
       "      <td>174</td>\n",
       "      <td>Business</td>\n",
       "      <td>102</td>\n",
       "      <td>1</td>\n",
       "    </tr>\n",
       "    <tr>\n",
       "      <th>2</th>\n",
       "      <td>2007-1000</td>\n",
       "      <td>7</td>\n",
       "      <td>172</td>\n",
       "      <td>Wedding</td>\n",
       "      <td>141</td>\n",
       "      <td>0</td>\n",
       "    </tr>\n",
       "    <tr>\n",
       "      <th>3</th>\n",
       "      <td>2007-1001</td>\n",
       "      <td>9</td>\n",
       "      <td>36</td>\n",
       "      <td>Private</td>\n",
       "      <td>193</td>\n",
       "      <td>0</td>\n",
       "    </tr>\n",
       "    <tr>\n",
       "      <th>4</th>\n",
       "      <td>2007-1002</td>\n",
       "      <td>5</td>\n",
       "      <td>185</td>\n",
       "      <td>Wedding</td>\n",
       "      <td>141</td>\n",
       "      <td>1</td>\n",
       "    </tr>\n",
       "  </tbody>\n",
       "</table>\n",
       "</div>"
      ],
      "text/plain": [
       "  customer_id location  date      type  quote  win\n",
       "0     2007-10        3   174   Wedding    103    0\n",
       "1    2007-100        4   174  Business    102    1\n",
       "2   2007-1000        7   172   Wedding    141    0\n",
       "3   2007-1001        9    36   Private    193    0\n",
       "4   2007-1002        5   185   Wedding    141    1"
      ]
     },
     "execution_count": 98,
     "metadata": {},
     "output_type": "execute_result"
    }
   ],
   "source": [
    "df.head()"
   ]
  },
  {
   "cell_type": "code",
   "execution_count": 110,
   "metadata": {},
   "outputs": [
    {
     "data": {
      "text/plain": [
       "count    2519.000000\n",
       "mean      134.399762\n",
       "std        25.494634\n",
       "min       100.000000\n",
       "25%       113.000000\n",
       "50%       130.000000\n",
       "75%       152.000000\n",
       "max       199.000000\n",
       "Name: quote, dtype: float64"
      ]
     },
     "execution_count": 110,
     "metadata": {},
     "output_type": "execute_result"
    }
   ],
   "source": [
    "df[df['win']==1]['quote'].describe()"
   ]
  },
  {
   "cell_type": "code",
   "execution_count": 100,
   "metadata": {},
   "outputs": [],
   "source": [
    "type_dict = {'Wedding':1, 'Business':2, 'Private':3}"
   ]
  },
  {
   "cell_type": "code",
   "execution_count": 12,
   "metadata": {},
   "outputs": [],
   "source": [
    "df['type'] = df['type'].map(type_dict).astype('category')"
   ]
  },
  {
   "cell_type": "code",
   "execution_count": 13,
   "metadata": {},
   "outputs": [],
   "source": [
    "from sklearn.linear_model import LogisticRegression\n",
    "from sklearn.model_selection import train_test_split"
   ]
  },
  {
   "cell_type": "code",
   "execution_count": 14,
   "metadata": {},
   "outputs": [],
   "source": [
    "x = ['location', 'date', 'type', 'quote']"
   ]
  },
  {
   "cell_type": "code",
   "execution_count": 15,
   "metadata": {},
   "outputs": [],
   "source": [
    "log1 = LogisticRegression()"
   ]
  },
  {
   "cell_type": "code",
   "execution_count": 16,
   "metadata": {},
   "outputs": [],
   "source": [
    "X = df[x]\n",
    "y = df['win']"
   ]
  },
  {
   "cell_type": "code",
   "execution_count": 17,
   "metadata": {},
   "outputs": [],
   "source": [
    "X_train, X_test, y_train, y_test = train_test_split(X, y, test_size = 0.2)"
   ]
  },
  {
   "cell_type": "code",
   "execution_count": 44,
   "metadata": {},
   "outputs": [
    {
     "data": {
      "text/plain": [
       "(5724, 4)"
      ]
     },
     "execution_count": 44,
     "metadata": {},
     "output_type": "execute_result"
    }
   ],
   "source": [
    "X_train.shape"
   ]
  },
  {
   "cell_type": "code",
   "execution_count": 18,
   "metadata": {},
   "outputs": [
    {
     "name": "stderr",
     "output_type": "stream",
     "text": [
      "/anaconda3/lib/python3.7/site-packages/sklearn/linear_model/logistic.py:433: FutureWarning: Default solver will be changed to 'lbfgs' in 0.22. Specify a solver to silence this warning.\n",
      "  FutureWarning)\n"
     ]
    },
    {
     "data": {
      "text/plain": [
       "LogisticRegression(C=1.0, class_weight=None, dual=False, fit_intercept=True,\n",
       "          intercept_scaling=1, max_iter=100, multi_class='warn',\n",
       "          n_jobs=None, penalty='l2', random_state=None, solver='warn',\n",
       "          tol=0.0001, verbose=0, warm_start=False)"
      ]
     },
     "execution_count": 18,
     "metadata": {},
     "output_type": "execute_result"
    }
   ],
   "source": [
    "log1.fit(X_train, y_train)"
   ]
  },
  {
   "cell_type": "code",
   "execution_count": 19,
   "metadata": {},
   "outputs": [],
   "source": [
    "# regression，不是classification\n",
    "y_pred = log1.predict_proba(X_test)"
   ]
  },
  {
   "cell_type": "code",
   "execution_count": 20,
   "metadata": {},
   "outputs": [
    {
     "data": {
      "text/plain": [
       "location      8\n",
       "date        155\n",
       "type          3\n",
       "quote       121\n",
       "Name: 3707, dtype: object"
      ]
     },
     "execution_count": 20,
     "metadata": {},
     "output_type": "execute_result"
    }
   ],
   "source": [
    "X_test.iloc[1]"
   ]
  },
  {
   "cell_type": "code",
   "execution_count": 77,
   "metadata": {},
   "outputs": [
    {
     "data": {
      "text/plain": [
       "array([0, 1])"
      ]
     },
     "execution_count": 77,
     "metadata": {},
     "output_type": "execute_result"
    }
   ],
   "source": [
    "log1.classes_"
   ]
  },
  {
   "cell_type": "code",
   "execution_count": 78,
   "metadata": {},
   "outputs": [
    {
     "data": {
      "text/plain": [
       "array([0.09166416, 0.42922613, 0.14056852, ..., 0.37888182, 0.40980294,\n",
       "       0.43798114])"
      ]
     },
     "execution_count": 78,
     "metadata": {},
     "output_type": "execute_result"
    }
   ],
   "source": [
    "y_pred[:,1]"
   ]
  },
  {
   "cell_type": "code",
   "execution_count": 22,
   "metadata": {},
   "outputs": [
    {
     "data": {
      "text/plain": [
       "array([[ 0.01130175, -0.01098676, -0.03196712, -0.03375764]])"
      ]
     },
     "execution_count": 22,
     "metadata": {},
     "output_type": "execute_result"
    }
   ],
   "source": [
    "# Object function: price * probablity\n",
    "log1.coef_"
   ]
  },
  {
   "cell_type": "code",
   "execution_count": 23,
   "metadata": {},
   "outputs": [],
   "source": [
    "loc_df = pd.read_excel('Copa-Data-File.xls', sheet_name='Sheet1')\n",
    "loc_dict = dict(zip(loc_df['Location'],loc_df['Location-ID'], ))"
   ]
  },
  {
   "cell_type": "code",
   "execution_count": 24,
   "metadata": {},
   "outputs": [
    {
     "data": {
      "text/plain": [
       "{'Boston': 1,\n",
       " 'NYC': 2,\n",
       " 'Washington DC': 3,\n",
       " 'Baltimore': 4,\n",
       " 'Norfolk VA': 5,\n",
       " 'Philadelphia': 6,\n",
       " 'New Jersey': 7,\n",
       " 'Seattle': 8,\n",
       " 'National Harbor MD': 9,\n",
       " 'Miami': 10}"
      ]
     },
     "execution_count": 24,
     "metadata": {},
     "output_type": "execute_result"
    }
   ],
   "source": [
    "loc_dict"
   ]
  },
  {
   "cell_type": "code",
   "execution_count": 112,
   "metadata": {},
   "outputs": [],
   "source": [
    "# for each new customer\n",
    "def give_quote(model, loc_dict, event_dict):\n",
    "    # input variables\n",
    "    loc = str(input('Please enter a location: '))\n",
    "    date = int(input('Please enter the number of days to the event: '))\n",
    "    event_type = str(input('Please enter the desired event type: '))\n",
    "    lower = int(input('Please enter the lower limit of quote: '))\n",
    "    upper = int(input('Please enter the upper limit of quote: '))\n",
    "    # change variable types\n",
    "    df = pd.DataFrame({'location':loc, \n",
    "                      'date':date,\n",
    "                      'type':event_type}, index=range(1))\n",
    "    df['location'] = df['location'].map(loc_dict).astype('category')\n",
    "    df['type'] = df['type'].map(event_dict).astype('category')\n",
    "    # calculate probablity under each quote\n",
    "    exp_rev = []\n",
    "    for price in range(lower,upper):\n",
    "        x = np.hstack((df.values[0], price))\n",
    "        p = model.predict_proba(x.reshape(-1,4))[:,1]\n",
    "        exp_rev.append(float(price * p))\n",
    "    \n",
    "    rev_max = max(exp_rev)\n",
    "    exp_price = [list(range(lower,upper))[index] for index, i in enumerate(exp_rev) if i == rev_max]\n",
    "    print('Recommended Quote is: ')\n",
    "    print(exp_price)"
   ]
  },
  {
   "cell_type": "code",
   "execution_count": 113,
   "metadata": {},
   "outputs": [
    {
     "name": "stdout",
     "output_type": "stream",
     "text": [
      "Please enter a location: Norfolk VA\n",
      "Please enter the number of days to the event: 185\n",
      "Please enter the desired event type: Wedding\n",
      "Please enter the lower limit of quote: 100\n",
      "Please enter the upper limit of quote: 200\n",
      "Recommended Quote is: \n",
      "[100]\n"
     ]
    }
   ],
   "source": [
    "give_quote(log1, loc_dict, type_dict)"
   ]
  },
  {
   "cell_type": "code",
   "execution_count": 116,
   "metadata": {},
   "outputs": [
    {
     "name": "stdout",
     "output_type": "stream",
     "text": [
      "Please enter a location: Norfolk VA\n",
      "Please enter the number of days to the event: 30\n",
      "Please enter the desired event type: Wedding\n",
      "Please enter the lower limit of quote: 0\n",
      "Please enter the upper limit of quote: 200\n",
      "Recommended Quote is: \n",
      "[121]\n"
     ]
    }
   ],
   "source": [
    "give_quote(log1, loc_dict, type_dict)"
   ]
  },
  {
   "cell_type": "code",
   "execution_count": null,
   "metadata": {},
   "outputs": [],
   "source": []
  }
 ],
 "metadata": {
  "kernelspec": {
   "display_name": "Python 3",
   "language": "python",
   "name": "python3"
  },
  "language_info": {
   "codemirror_mode": {
    "name": "ipython",
    "version": 3
   },
   "file_extension": ".py",
   "mimetype": "text/x-python",
   "name": "python",
   "nbconvert_exporter": "python",
   "pygments_lexer": "ipython3",
   "version": "3.7.1"
  }
 },
 "nbformat": 4,
 "nbformat_minor": 2
}
